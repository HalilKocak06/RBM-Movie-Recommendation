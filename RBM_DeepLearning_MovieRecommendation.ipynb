{
  "nbformat": 4,
  "nbformat_minor": 0,
  "metadata": {
    "colab": {
      "provenance": []
    },
    "kernelspec": {
      "name": "python3",
      "display_name": "Python 3"
    }
  },
  "cells": [
    {
      "cell_type": "markdown",
      "metadata": {
        "id": "kqyu1kmoKbrE"
      },
      "source": [
        "# Boltzmann Machines"
      ]
    },
    {
      "cell_type": "markdown",
      "metadata": {
        "id": "9tAA6MwdRAVd"
      },
      "source": [
        "## Importing the libraries"
      ]
    },
    {
      "cell_type": "code",
      "source": [
        "import numpy as np\n",
        "import pandas as pd\n",
        "import torch #\n",
        "import torch.nn as nn\n",
        "import torch.optim as optim\n",
        "import torch.utils.data\n",
        "from torch.autograd import variable"
      ],
      "metadata": {
        "id": "EQPoao0fXgwf"
      },
      "execution_count": 2,
      "outputs": []
    },
    {
      "cell_type": "markdown",
      "metadata": {
        "id": "PDWL9xRfSRhC"
      },
      "source": [
        "## Importing the dataset"
      ]
    },
    {
      "cell_type": "code",
      "source": [
        "movies = pd.read_csv('ml-1m/movies.dat', sep='::' , header = None , engine = 'python' , encoding = 'latin-1' )\n",
        "users = pd.read_csv('ml-1m/users.dat', sep='::' , header = None , engine = 'python' , encoding = 'latin-1')\n",
        "ratings = pd.read_csv('ml-1m/ratings.dat', sep='::' , header = None , engine = 'python' , encoding = 'latin-1')"
      ],
      "metadata": {
        "colab": {
          "base_uri": "https://localhost:8080/",
          "height": 176
        },
        "id": "tgF43OBNZyxQ",
        "outputId": "f8e3eed5-cb1a-4305-8fce-e331dcef9a33"
      },
      "execution_count": 4,
      "outputs": [
        {
          "output_type": "error",
          "ename": "NameError",
          "evalue": "name 'pd' is not defined",
          "traceback": [
            "\u001b[0;31m---------------------------------------------------------------------------\u001b[0m",
            "\u001b[0;31mNameError\u001b[0m                                 Traceback (most recent call last)",
            "\u001b[0;32m<ipython-input-4-7b1d99fb0603>\u001b[0m in \u001b[0;36m<cell line: 0>\u001b[0;34m()\u001b[0m\n\u001b[0;32m----> 1\u001b[0;31m \u001b[0mmovies\u001b[0m \u001b[0;34m=\u001b[0m \u001b[0mpd\u001b[0m\u001b[0;34m.\u001b[0m\u001b[0mread_csv\u001b[0m\u001b[0;34m(\u001b[0m\u001b[0;34m'ml-1m/movies.dat'\u001b[0m\u001b[0;34m,\u001b[0m \u001b[0msep\u001b[0m\u001b[0;34m=\u001b[0m\u001b[0;34m'::'\u001b[0m \u001b[0;34m,\u001b[0m \u001b[0mheader\u001b[0m \u001b[0;34m=\u001b[0m \u001b[0;32mNone\u001b[0m \u001b[0;34m,\u001b[0m \u001b[0mengine\u001b[0m \u001b[0;34m=\u001b[0m \u001b[0;34m'python'\u001b[0m \u001b[0;34m,\u001b[0m \u001b[0mencoding\u001b[0m \u001b[0;34m=\u001b[0m \u001b[0;34m'latin-1'\u001b[0m \u001b[0;34m)\u001b[0m\u001b[0;34m\u001b[0m\u001b[0;34m\u001b[0m\u001b[0m\n\u001b[0m\u001b[1;32m      2\u001b[0m \u001b[0musers\u001b[0m \u001b[0;34m=\u001b[0m \u001b[0mpd\u001b[0m\u001b[0;34m.\u001b[0m\u001b[0mread_csv\u001b[0m\u001b[0;34m(\u001b[0m\u001b[0;34m'ml-1m/users.dat'\u001b[0m\u001b[0;34m,\u001b[0m \u001b[0msep\u001b[0m\u001b[0;34m=\u001b[0m\u001b[0;34m'::'\u001b[0m \u001b[0;34m,\u001b[0m \u001b[0mheader\u001b[0m \u001b[0;34m=\u001b[0m \u001b[0;32mNone\u001b[0m \u001b[0;34m,\u001b[0m \u001b[0mengine\u001b[0m \u001b[0;34m=\u001b[0m \u001b[0;34m'python'\u001b[0m \u001b[0;34m,\u001b[0m \u001b[0mencoding\u001b[0m \u001b[0;34m=\u001b[0m \u001b[0;34m'latin-1'\u001b[0m\u001b[0;34m)\u001b[0m\u001b[0;34m\u001b[0m\u001b[0;34m\u001b[0m\u001b[0m\n\u001b[1;32m      3\u001b[0m \u001b[0mratings\u001b[0m \u001b[0;34m=\u001b[0m \u001b[0mpd\u001b[0m\u001b[0;34m.\u001b[0m\u001b[0mread_csv\u001b[0m\u001b[0;34m(\u001b[0m\u001b[0;34m'ml-1m/ratings.dat'\u001b[0m\u001b[0;34m,\u001b[0m \u001b[0msep\u001b[0m\u001b[0;34m=\u001b[0m\u001b[0;34m'::'\u001b[0m \u001b[0;34m,\u001b[0m \u001b[0mheader\u001b[0m \u001b[0;34m=\u001b[0m \u001b[0;32mNone\u001b[0m \u001b[0;34m,\u001b[0m \u001b[0mengine\u001b[0m \u001b[0;34m=\u001b[0m \u001b[0;34m'python'\u001b[0m \u001b[0;34m,\u001b[0m \u001b[0mencoding\u001b[0m \u001b[0;34m=\u001b[0m \u001b[0;34m'latin-1'\u001b[0m\u001b[0;34m)\u001b[0m\u001b[0;34m\u001b[0m\u001b[0;34m\u001b[0m\u001b[0m\n",
            "\u001b[0;31mNameError\u001b[0m: name 'pd' is not defined"
          ]
        }
      ]
    },
    {
      "cell_type": "markdown",
      "metadata": {
        "id": "Ifo6XYFvXsRF"
      },
      "source": [
        "## Preparing the training set and the test set"
      ]
    },
    {
      "cell_type": "code",
      "source": [
        "training_set = pd.read_csv('ml-100k/u1.base', delimiter = '\\t')\n",
        "training_set = np.array(training_set, dtype = 'int')\n",
        "test_set = pd.read_csv('ml-100k/u1.test' , delimiter = '\\t')\n",
        "test_set = np.array(test_set, dtype = 'int')"
      ],
      "metadata": {
        "id": "gbhyc4DmVX3m"
      },
      "execution_count": null,
      "outputs": []
    },
    {
      "cell_type": "markdown",
      "metadata": {
        "id": "ujNEtV_fX8d3"
      },
      "source": [
        "## Getting the number of users and movies"
      ]
    },
    {
      "cell_type": "code",
      "source": [
        "nb_users = max(max(training_set[:,0]), max(test_set[:,0]))\n",
        "nb_movies = max(max(training_set[:,1]), max(test_set[:,1]))\n",
        "print(nb_users)\n",
        "print(nb_movies)"
      ],
      "metadata": {
        "id": "0hcgYFNHdofy"
      },
      "execution_count": null,
      "outputs": []
    },
    {
      "cell_type": "markdown",
      "metadata": {
        "id": "iPJDmiQlYD1r"
      },
      "source": [
        "## Converting the data into an array with users in lines and movies in columns"
      ]
    },
    {
      "cell_type": "code",
      "source": [
        "def convert(data):\n",
        "    new_data = []\n",
        "    for id_users in range(1, nb_users + 1):\n",
        "        id_movies = data[:,1][data[:, 0] == id_users]\n",
        "        id_ratings = data[:,2][data[:, 0] == id_users]\n",
        "        ratings = np.zeros(nb_movies)\n",
        "        ratings [id_movies -1] = id_ratings\n",
        "        new_data.append(list(ratings))\n",
        "\n",
        "    return new_data\n",
        "\n",
        "training_set = convert(training_set)\n",
        "test_set = convert(test_set)\n",
        "\n"
      ],
      "metadata": {
        "id": "cj2CmrhzeCZQ"
      },
      "execution_count": null,
      "outputs": []
    },
    {
      "cell_type": "markdown",
      "metadata": {
        "id": "Aj4327VkYZAB"
      },
      "source": [
        "## Converting the data into Torch tensors"
      ]
    },
    {
      "cell_type": "code",
      "source": [
        "#Torch tensors çok boyutlu dizilerdir(MATRIX).\n",
        "training_set = torch.FloatTensor(training_set)\n",
        "test_set = torch.FloatTensor(test_set)"
      ],
      "metadata": {
        "id": "kXJgD0LKm-kU"
      },
      "execution_count": null,
      "outputs": []
    },
    {
      "cell_type": "markdown",
      "metadata": {
        "id": "5n17yuE5YheZ"
      },
      "source": [
        "## Converting the ratings into binary ratings 1 (Liked) or 0 (Not Liked)"
      ]
    },
    {
      "cell_type": "code",
      "source": [
        "training_set[training_set == 0] = -1 #filmi hiç izlemediyse -1 yaparız ve ağırlığa dahil edilmez.\n",
        "training_set[training_set == 1] = 0 #puanı 1 veya 2 olanlar beğenilmedi demek..\n",
        "training_set[training_set == 2] = 0\n",
        "training_set[training_set >= 3] = 1 #beğenildi demek ..\n",
        "test_set[test_set == 0] = -1\n",
        "test_set[test_set == 1] = 0\n",
        "test_set[test_set == 2] = 0\n",
        "test_set[test_set >= 3] = 1"
      ],
      "metadata": {
        "id": "jdfhiZC1nlUr"
      },
      "execution_count": null,
      "outputs": []
    },
    {
      "cell_type": "markdown",
      "metadata": {
        "id": "lVXY7u7NYuuC"
      },
      "source": [
        "## Creating the architecture of the Neural Network"
      ]
    },
    {
      "cell_type": "code",
      "source": [
        "class RBM():\n",
        "    def __init__(self, nv, nh): #numbervisible, numberhidden\n",
        "      self.W = torch.randn(nh, nv) #ağırlık matrisini rastgele başlattık .\n",
        "      self.a = torch.randn(1, nh)\n",
        "      self.b = torch.randn(1, nv)\n",
        "\n",
        "\n",
        "    def sample_h(self, x): #x görünür katmanın girdisi.\n",
        "      wx = torch.mm(x, self.W.t()) #gizli nöronlara ulaşa toplam girdiler = wx\n",
        "      activation = wx + self.a.expand_as(wx) #gizli katmanda aktivasyon hesaplanır.\n",
        "      p_h_given_v = torch.sigmoid(activation) #sigmoid fonksiyonu ile aktivasyon olasılığa dönüşür.\n",
        "      return p_h_given_v, torch.bernoulli(p_h_given_v) # Bernoulli dağılımına göre rastgele 0 veya 1 değerleri üreterek gizli katmanda hangi nöronların aktif olacağını belirliyoruz.\n",
        "\n",
        "    def sample_v(self, y):\n",
        "      wy = torch.mm(y, self.w)\n",
        "      activation = wy + self.b.expand_as(wy)\n",
        "      p_v_given_h = torch.sigmoid(activation)\n",
        "      return p_v_given_h, torch.bernoulli(p_v_given_h)\n",
        "\n",
        "    def train(self, v0, vk, ph0, phk):\n",
        "      self.w += torch.mm(v0.t(), ph0) - torch.mm(vk.t(), phk)\n",
        "      self.b += torch.sum((v0-vk),0)\n",
        "      self.a += torch.sum((ph0-phk),0)\n",
        "\n",
        "nv = len(training_set[0])\n",
        "nh = 100\n",
        "batch_size = 100\n",
        "rbm = RBM(nv, nh)  #creating object.\n",
        "\n",
        "\n",
        "\n",
        "\n"
      ],
      "metadata": {
        "id": "UF-jox__oSOr"
      },
      "execution_count": null,
      "outputs": []
    },
    {
      "cell_type": "markdown",
      "metadata": {
        "id": "JXT6ofIOY61G"
      },
      "source": [
        "## Training the RBM"
      ]
    },
    {
      "cell_type": "code",
      "source": [
        "#RBM'i Contrastive Divergence ile eğitiyoruz.\n",
        "nb_epoch = 10\n",
        "for epoch in range(1, nb_epoch + 1): #Süreç 10 defa tekrarlanır...\n",
        "  train_loss = 0 # Eğitim kaybını sıfırlıyoruz.\n",
        "  s = 0.\n",
        "  for id_user in range(0, nb_users - batch_size, batch_size):\n",
        "    vk = training_set[id_user:id_user+batch_size] # güncellenen versioyn.\n",
        "    v0 = training_set[id_user:id_user+batch_size] #orijinal girişler\n",
        "    ph0,_ = rbm.sample_h(v0) #gizli katmandaki aktivasyon olasılıklarını hesaplıyoruz.\n",
        "\n",
        "    #k=10 iterasyon boyunca (Contrastive Divergence için yeterli) bu işlemi tekrarlıyoruz.\n",
        "    #İlk olarak: vk'dan gizli katmanı hesaplıyoruz (sample_h).\n",
        "    #Sonra: h'den tekrar görünür katmana geçiyoruz (sample_v).\n",
        "    for k in range(10):\n",
        "      _,hk = rbm.sample_h(vk)\n",
        "      _,vk = rbm.sample_v(hk)\n",
        "      vk[v0<0] = v0[v0<0]\n",
        "\n",
        "    phk,_ = rbm.sample_h(vk)\n",
        "    rbm.train(v0, vk, ph0, phk)\n",
        "    train_loss += torch.mean(torch.abs(v0[v0>=0] - vk[v0>=0]))\n",
        "     #RMSE here\n",
        "    s += 1.\n",
        "  print('epoch: '+str(epoch)+' loss: '+str(train_loss/s))\n"
      ],
      "metadata": {
        "id": "T_nqjfkvc85W"
      },
      "execution_count": null,
      "outputs": []
    },
    {
      "cell_type": "markdown",
      "source": [],
      "metadata": {
        "id": "ZqRFoqV3i7wV"
      }
    },
    {
      "cell_type": "markdown",
      "metadata": {
        "id": "Dcksm8T5ZCpo"
      },
      "source": [
        "## Testing the RBM"
      ]
    },
    {
      "cell_type": "code",
      "source": [
        "test_loss = 0\n",
        "s = 0.\n",
        "for id_user in range(nb_users):\n",
        "    v = training_set[id_user:id_user+1]\n",
        "    vt = test_set[id_user:id_user+1]\n",
        "    if len(vt[vt>=0]) > 0:\n",
        "        _,h = rbm.sample_h(v)\n",
        "        _,v = rbm.sample_v(h)\n",
        "        test_loss += torch.mean(torch.abs(vt[vt>=0] - v[vt>=0]))\n",
        "        #RMSE\n",
        "        s += 1.\n",
        "print('test loss: '+str(test_loss/s))"
      ],
      "metadata": {
        "id": "3d89q_GOc9Uk"
      },
      "execution_count": null,
      "outputs": []
    },
    {
      "cell_type": "markdown",
      "source": [
        "Recommending Movies to User"
      ],
      "metadata": {
        "id": "FElhDqhDl_7D"
      }
    },
    {
      "cell_type": "code",
      "source": [
        "def recommend_movies(user_id, model, training_set, nb_movies, movies_df, top_n=5):\n",
        "    user_data = training_set[user_id - 1].unsqueeze(0)  # Kullanıcı verisini al\n",
        "    _, hidden = model.sample_h(user_data)  # Gizli katman aktivasyonlarını al\n",
        "    predicted_ratings, _ = model.sample_v(hidden)  # Tahmin edilen puanları al\n",
        "\n",
        "    predicted_ratings = predicted_ratings.data.numpy().flatten()  # NumPy dizisine çevir\n",
        "\n",
        "    watched_movies = training_set[user_id - 1] > 0  # Kullanıcının izlediği filmler\n",
        "    predicted_ratings[watched_movies] = -np.inf  # Zaten izlenen filmleri önerme\n",
        "\n",
        "    top_movies_idx = predicted_ratings.argsort()[-top_n:][::-1]  # En yüksek tahmin edilen filmleri al\n",
        "\n",
        "    recommended_movies = movies_df.iloc[top_movies_idx]  # Filmleri movies.csv'den çek\n",
        "\n",
        "    return recommended_movies\n",
        "\n",
        "# Örnek kullanım (kullanıcı 10 için)\n",
        "recommended_movies = recommend_movies(10, rbm, training_set, nb_movies, movies)\n",
        "print(recommended_movies)\n"
      ],
      "metadata": {
        "id": "6wOpLYucmEEj"
      },
      "execution_count": null,
      "outputs": []
    }
  ]
}